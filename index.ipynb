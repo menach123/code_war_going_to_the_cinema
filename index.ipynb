{
 "cells": [
  {
   "cell_type": "markdown",
   "metadata": {},
   "source": [
    "### <a href = https://www.codewars.com/kata/562f91ff6a8b77dfe900006e/train/python>Going to the cinema</a>\n",
    "\n",
    "My friend John likes to go to the cinema. He can choose between system A and system B.\n",
    "```\n",
    "System A : he buys a ticket (15 dollars) every time\n",
    "System B : he buys a card (500 dollars) and a first ticket for 0.90 times the ticket price, \n",
    "then for each additional ticket he pays 0.90 times the price paid for the previous ticket.\n",
    "```\n",
    "#Example: If John goes to the cinema 3 times:\n",
    "```\n",
    "System A : 15 * 3 = 45\n",
    "System B : 500 + 15 * 0.90 + (15 * 0.90) * 0.90 + (15 * 0.90 * 0.90) * 0.90 ( = 536.5849999999999, no rounding for each ticket)\n",
    "```\n",
    "John wants to know how many times he must go to the cinema so that the final result of System B, when rounded up to the next dollar, will be cheaper than System A.\n",
    "\n",
    "The function movie has 3 parameters: card (price of the card), ticket (normal price of a ticket), perc (fraction of what he paid for the previous ticket) and returns the first n such that\n",
    "```\n",
    "ceil(price of System B) < price of System A.\n",
    "```\n",
    "More examples\n",
    "```\n",
    "movie(500, 15, 0.9) should return 43 \n",
    "    (with card the total price is 634, with tickets 645)\n",
    "movie(100, 10, 0.95) should return 24 \n",
    "    (with card the total price is 235, with tickets 240)\n",
    "```"
   ]
  },
  {
   "cell_type": "code",
   "execution_count": 1,
   "metadata": {},
   "outputs": [],
   "source": [
    "from math import ceil\n",
    "\n",
    "def movie(card, ticket, perc):\n",
    "    tickets = card//ticket + 1\n",
    "    check = tickets* ticket <= ceil(card + sum([ticket* (perc**(i+ 1)) for i in range(tickets)]))\n",
    "    while check:\n",
    "        tickets += 1\n",
    "        check = tickets* ticket <= ceil(card + sum([ticket* (perc**(i+ 1)) for i in range(tickets)]))\n",
    "    return tickets"
   ]
  },
  {
   "cell_type": "code",
   "execution_count": 2,
   "metadata": {},
   "outputs": [],
   "source": [
    "card, ticket, perc = 500, 15, 0.9"
   ]
  },
  {
   "cell_type": "code",
   "execution_count": 3,
   "metadata": {},
   "outputs": [],
   "source": [
    "start = card//ticket + 1\n"
   ]
  },
  {
   "cell_type": "code",
   "execution_count": 4,
   "metadata": {},
   "outputs": [],
   "source": [
    "check = start* 15 <= 500 + sum([ticket* (perc**(i+ 1)) for i in range(start)])"
   ]
  },
  {
   "cell_type": "code",
   "execution_count": 5,
   "metadata": {},
   "outputs": [
    {
     "data": {
      "text/plain": [
       "43"
      ]
     },
     "execution_count": 5,
     "metadata": {},
     "output_type": "execute_result"
    }
   ],
   "source": [
    "while check:\n",
    "    start+= 1\n",
    "    check = start* 15 <= 500 + sum([ticket* (perc**(i+ 1)) for i in range(start)])\n",
    "start"
   ]
  },
  {
   "cell_type": "code",
   "execution_count": 6,
   "metadata": {},
   "outputs": [
    {
     "data": {
      "text/plain": [
       "24"
      ]
     },
     "execution_count": 6,
     "metadata": {},
     "output_type": "execute_result"
    }
   ],
   "source": [
    "movie(100, 10, 0.95)"
   ]
  },
  {
   "cell_type": "code",
   "execution_count": 7,
   "metadata": {},
   "outputs": [
    {
     "data": {
      "text/plain": [
       "43"
      ]
     },
     "execution_count": 7,
     "metadata": {},
     "output_type": "execute_result"
    }
   ],
   "source": [
    "movie(500, 15, 0.9)"
   ]
  },
  {
   "cell_type": "code",
   "execution_count": null,
   "metadata": {},
   "outputs": [],
   "source": []
  }
 ],
 "metadata": {
  "kernelspec": {
   "display_name": "Python 3",
   "language": "python",
   "name": "python3"
  },
  "language_info": {
   "codemirror_mode": {
    "name": "ipython",
    "version": 3
   },
   "file_extension": ".py",
   "mimetype": "text/x-python",
   "name": "python",
   "nbconvert_exporter": "python",
   "pygments_lexer": "ipython3",
   "version": "3.6.6"
  }
 },
 "nbformat": 4,
 "nbformat_minor": 2
}
